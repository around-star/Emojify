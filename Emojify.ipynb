{
  "nbformat": 4,
  "nbformat_minor": 0,
  "metadata": {
    "colab": {
      "name": "Emojify.ipynb",
      "provenance": [],
      "authorship_tag": "ABX9TyPzrOeCwP0XsF6arXrdZ/F5",
      "include_colab_link": true
    },
    "kernelspec": {
      "name": "python3",
      "display_name": "Python 3"
    },
    "accelerator": "GPU"
  },
  "cells": [
    {
      "cell_type": "markdown",
      "metadata": {
        "id": "view-in-github",
        "colab_type": "text"
      },
      "source": [
        "<a href=\"https://colab.research.google.com/github/around-star/Emojify/blob/master/Emojify.ipynb\" target=\"_parent\"><img src=\"https://colab.research.google.com/assets/colab-badge.svg\" alt=\"Open In Colab\"/></a>"
      ]
    },
    {
      "cell_type": "markdown",
      "metadata": {
        "id": "M74P-mEaknaC",
        "colab_type": "text"
      },
      "source": [
        "##EMOJIFY"
      ]
    },
    {
      "cell_type": "code",
      "metadata": {
        "id": "CtCfSCkzDc_p",
        "colab_type": "code",
        "colab": {
          "base_uri": "https://localhost:8080/",
          "height": 122
        },
        "outputId": "70466bae-746a-4ab7-d8c8-229328bfc43e"
      },
      "source": [
        "import os\n",
        "from google.colab import drive\n",
        "drive.mount('/gdrive')\n",
        "os.chdir('/gdrive/My Drive/Colab Notebooks')"
      ],
      "execution_count": 1,
      "outputs": [
        {
          "output_type": "stream",
          "text": [
            "Go to this URL in a browser: https://accounts.google.com/o/oauth2/auth?client_id=947318989803-6bn6qk8qdgf4n4g3pfee6491hc0brc4i.apps.googleusercontent.com&redirect_uri=urn%3aietf%3awg%3aoauth%3a2.0%3aoob&response_type=code&scope=email%20https%3a%2f%2fwww.googleapis.com%2fauth%2fdocs.test%20https%3a%2f%2fwww.googleapis.com%2fauth%2fdrive%20https%3a%2f%2fwww.googleapis.com%2fauth%2fdrive.photos.readonly%20https%3a%2f%2fwww.googleapis.com%2fauth%2fpeopleapi.readonly\n",
            "\n",
            "Enter your authorization code:\n",
            "··········\n",
            "Mounted at /gdrive\n"
          ],
          "name": "stdout"
        }
      ]
    },
    {
      "cell_type": "code",
      "metadata": {
        "id": "03V_uLV_Dfpn",
        "colab_type": "code",
        "colab": {
          "base_uri": "https://localhost:8080/",
          "height": 170
        },
        "outputId": "3dd5ef7b-9de9-416f-a295-57d2c8d5c7d5"
      },
      "source": [
        "!pip install import-ipynb\n",
        "import import_ipynb"
      ],
      "execution_count": 2,
      "outputs": [
        {
          "output_type": "stream",
          "text": [
            "Collecting import-ipynb\n",
            "  Downloading https://files.pythonhosted.org/packages/63/35/495e0021bfdcc924c7cdec4e9fbb87c88dd03b9b9b22419444dc370c8a45/import-ipynb-0.1.3.tar.gz\n",
            "Building wheels for collected packages: import-ipynb\n",
            "  Building wheel for import-ipynb (setup.py) ... \u001b[?25l\u001b[?25hdone\n",
            "  Created wheel for import-ipynb: filename=import_ipynb-0.1.3-cp36-none-any.whl size=2976 sha256=10b9fdaf326658492153211f32912f61d4f5d9df40b94331ba3eb8f9d0371429\n",
            "  Stored in directory: /root/.cache/pip/wheels/b4/7b/e9/a3a6e496115dffdb4e3085d0ae39ffe8a814eacc44bbf494b5\n",
            "Successfully built import-ipynb\n",
            "Installing collected packages: import-ipynb\n",
            "Successfully installed import-ipynb-0.1.3\n"
          ],
          "name": "stdout"
        }
      ]
    },
    {
      "cell_type": "code",
      "metadata": {
        "id": "WNLqnHWyETrf",
        "colab_type": "code",
        "colab": {
          "base_uri": "https://localhost:8080/",
          "height": 204
        },
        "outputId": "edd250e1-b180-438c-c6df-cb11375c3d26"
      },
      "source": [
        "import emo \n",
        "import numpy as np\n",
        "import emoji"
      ],
      "execution_count": 3,
      "outputs": [
        {
          "output_type": "stream",
          "text": [
            "importing Jupyter notebook from emo.ipynb\n",
            "Collecting emoji\n",
            "\u001b[?25l  Downloading https://files.pythonhosted.org/packages/40/8d/521be7f0091fe0f2ae690cc044faf43e3445e0ff33c574eae752dd7e39fa/emoji-0.5.4.tar.gz (43kB)\n",
            "\u001b[K     |████████████████████████████████| 51kB 2.9MB/s \n",
            "\u001b[?25hBuilding wheels for collected packages: emoji\n",
            "  Building wheel for emoji (setup.py) ... \u001b[?25l\u001b[?25hdone\n",
            "  Created wheel for emoji: filename=emoji-0.5.4-cp36-none-any.whl size=42176 sha256=e6ead79a0be8ac33162d50e2348d2f155d122c91f8eb0d359767214636074fc7\n",
            "  Stored in directory: /root/.cache/pip/wheels/2a/a9/0a/4f8e8cce8074232aba240caca3fade315bb49fac68808d1a9c\n",
            "Successfully built emoji\n",
            "Installing collected packages: emoji\n",
            "Successfully installed emoji-0.5.4\n"
          ],
          "name": "stdout"
        }
      ]
    },
    {
      "cell_type": "code",
      "metadata": {
        "id": "ds4f8RMhIdPN",
        "colab_type": "code",
        "colab": {}
      },
      "source": [
        "os.chdir('/gdrive/My Drive')\n",
        "X_train , Y_train = emo.read_csv('data/train_emoji.csv')\n",
        "X_test, Y_test = emo.read_csv('data/test.csv')"
      ],
      "execution_count": 29,
      "outputs": []
    },
    {
      "cell_type": "code",
      "metadata": {
        "id": "WIunoM-fKtJa",
        "colab_type": "code",
        "colab": {}
      },
      "source": [
        "max_len = len(max(X_train, key=len).split())"
      ],
      "execution_count": 5,
      "outputs": []
    },
    {
      "cell_type": "code",
      "metadata": {
        "id": "Mng7PT94NFp1",
        "colab_type": "code",
        "colab": {
          "base_uri": "https://localhost:8080/",
          "height": 187
        },
        "outputId": "ab53f004-db67-4a68-aaf7-03445f2da7a5"
      },
      "source": [
        "for i in range(10):\n",
        "  print(X_train[i], emo.label_to_emoji(Y_train[i]))"
      ],
      "execution_count": 6,
      "outputs": [
        {
          "output_type": "stream",
          "text": [
            "never talk to me again 😞\n",
            "I am proud of your achievements 😄\n",
            "It is the worst day in my life 😞\n",
            "Miss you so much ❤️\n",
            "food is life 🍴\n",
            "I love you mum ❤️\n",
            "Stop saying bullshit 😞\n",
            "congratulations on your acceptance 😄\n",
            "The assignment is too long  😞\n",
            "I want to go play ⚾\n"
          ],
          "name": "stdout"
        }
      ]
    },
    {
      "cell_type": "code",
      "metadata": {
        "id": "WlDjV1O0PZ3B",
        "colab_type": "code",
        "colab": {}
      },
      "source": [
        "def one_hot_encode(Y, num = 5):\n",
        "  n = len(Y)\n",
        "  y = np.zeros((n,num))\n",
        "  y[range(n), Y] = 1\n",
        "  return y"
      ],
      "execution_count": 7,
      "outputs": []
    },
    {
      "cell_type": "code",
      "metadata": {
        "id": "R71GZk_QSh-6",
        "colab_type": "code",
        "colab": {
          "base_uri": "https://localhost:8080/",
          "height": 34
        },
        "outputId": "c4c6d363-5bc7-405a-8d49-f16dcd05664f"
      },
      "source": [
        "Y_test[:10]"
      ],
      "execution_count": 8,
      "outputs": [
        {
          "output_type": "execute_result",
          "data": {
            "text/plain": [
              "array([4, 3, 2, 2, 2, 2, 3, 2, 4, 2])"
            ]
          },
          "metadata": {
            "tags": []
          },
          "execution_count": 8
        }
      ]
    },
    {
      "cell_type": "code",
      "metadata": {
        "id": "B1Ox3vM9SYCB",
        "colab_type": "code",
        "colab": {}
      },
      "source": [
        "word_to_index, index_to_word, word_to_vec_map = emo.read_glove_vecs('data/glove.6B.50d.txt')"
      ],
      "execution_count": 9,
      "outputs": []
    },
    {
      "cell_type": "code",
      "metadata": {
        "id": "shqMGmPGtH4I",
        "colab_type": "code",
        "colab": {}
      },
      "source": [
        "from tensorflow.keras.models import Model\n",
        "from tensorflow.keras.layers import Input, Dense, Dropout, Activation, LSTM, Embedding\n",
        "from tensorflow.keras.initializers import glorot_uniform"
      ],
      "execution_count": 11,
      "outputs": []
    },
    {
      "cell_type": "code",
      "metadata": {
        "id": "EApC-Etbx0WU",
        "colab_type": "code",
        "colab": {}
      },
      "source": [
        "def sentences_to_indices(X, word_to_index, max_len):\n",
        "  m = X.shape[0]\n",
        "\n",
        "  x_indices = np.zeros((m, max_len))\n",
        "\n",
        "  for i in range(m):\n",
        "\n",
        "    sentence_words = X[i].lower().split()\n",
        "    j=0\n",
        "    \n",
        "    for w in sentence_words:\n",
        "\n",
        "      x_indices[i,j] = word_to_index[w]\n",
        "      j+=1\n",
        "\n",
        "  return x_indices"
      ],
      "execution_count": 12,
      "outputs": []
    },
    {
      "cell_type": "code",
      "metadata": {
        "id": "kRKouagp2Azx",
        "colab_type": "code",
        "colab": {}
      },
      "source": [
        "def pretrained_embedded_layer(word_to_vec_map, word_to_index):\n",
        "\n",
        "  vocab_len = len(word_to_index) + 1\n",
        "  emb_dim = 50\n",
        "\n",
        "  emb_matrix = np.zeros((vocab_len, emb_dim))\n",
        "\n",
        "  for word,i in word_to_index.items():\n",
        "    emb_matrix[i,:] = word_to_vec_map[word]\n",
        "\n",
        "  embedding_layer = Embedding(vocab_len, emb_dim, trainable = False)\n",
        "  embedding_layer.build((None,))\n",
        "  embedding_layer.set_weights([emb_matrix])\n",
        "\n",
        "  return embedding_layer"
      ],
      "execution_count": 13,
      "outputs": []
    },
    {
      "cell_type": "code",
      "metadata": {
        "id": "h4sdjPVK6r7T",
        "colab_type": "code",
        "colab": {}
      },
      "source": [
        "def model(input_shape, word_to_vec_map, word_to_index):\n",
        "\n",
        "  sentence_indices = Input(shape = input_shape)\n",
        "\n",
        "  embedding_layer = pretrained_embedded_layer(word_to_vec_map, word_to_index)\n",
        "\n",
        "  embeddings = embedding_layer(sentence_indices)\n",
        "\n",
        "  X = LSTM(128, return_sequences=True)(embeddings)\n",
        "  X = Dropout(0.5)(X)\n",
        "  X = LSTM(128)(X)\n",
        "  X = Dropout(0.5)(X)\n",
        "  X = Dense(5)(X)\n",
        "  X = Activation('softmax')(X)\n",
        "\n",
        "  model = Model(inputs = sentence_indices, outputs = X)\n",
        "\n",
        "  return model"
      ],
      "execution_count": 14,
      "outputs": []
    },
    {
      "cell_type": "code",
      "metadata": {
        "id": "c-rnXhuz_ZRj",
        "colab_type": "code",
        "colab": {
          "base_uri": "https://localhost:8080/",
          "height": 425
        },
        "outputId": "ebf47df5-fa68-43c1-93bf-86b0a7d4911d"
      },
      "source": [
        "model = model(max_len, word_to_vec_map, word_to_index)\n",
        "model.summary()"
      ],
      "execution_count": 15,
      "outputs": [
        {
          "output_type": "stream",
          "text": [
            "Model: \"model\"\n",
            "_________________________________________________________________\n",
            "Layer (type)                 Output Shape              Param #   \n",
            "=================================================================\n",
            "input_1 (InputLayer)         [(None, 10)]              0         \n",
            "_________________________________________________________________\n",
            "embedding (Embedding)        (None, 10, 50)            20000050  \n",
            "_________________________________________________________________\n",
            "lstm (LSTM)                  (None, 10, 128)           91648     \n",
            "_________________________________________________________________\n",
            "dropout (Dropout)            (None, 10, 128)           0         \n",
            "_________________________________________________________________\n",
            "lstm_1 (LSTM)                (None, 128)               131584    \n",
            "_________________________________________________________________\n",
            "dropout_1 (Dropout)          (None, 128)               0         \n",
            "_________________________________________________________________\n",
            "dense (Dense)                (None, 5)                 645       \n",
            "_________________________________________________________________\n",
            "activation (Activation)      (None, 5)                 0         \n",
            "=================================================================\n",
            "Total params: 20,223,927\n",
            "Trainable params: 223,877\n",
            "Non-trainable params: 20,000,050\n",
            "_________________________________________________________________\n"
          ],
          "name": "stdout"
        }
      ]
    },
    {
      "cell_type": "code",
      "metadata": {
        "id": "R1DaQIlx_mw8",
        "colab_type": "code",
        "colab": {}
      },
      "source": [
        "model.compile(loss= 'categorical_crossentropy', optimizer = 'adam', metrics = ['accuracy'])"
      ],
      "execution_count": 16,
      "outputs": []
    },
    {
      "cell_type": "code",
      "metadata": {
        "id": "paD5K-VX_-26",
        "colab_type": "code",
        "colab": {}
      },
      "source": [
        "X_train = sentences_to_indices(X_train, word_to_index, max_len)\n",
        "Y_train = one_hot_encode(Y_train)"
      ],
      "execution_count": 17,
      "outputs": []
    },
    {
      "cell_type": "code",
      "metadata": {
        "id": "5KgR8F-hAyG6",
        "colab_type": "code",
        "colab": {
          "base_uri": "https://localhost:8080/",
          "height": 1000
        },
        "outputId": "33cd17bc-1a86-4fc2-b01d-ee2a6c44aa1b"
      },
      "source": [
        "model.fit(X_train, Y_train, epochs=50, batch_size=32)"
      ],
      "execution_count": 18,
      "outputs": [
        {
          "output_type": "stream",
          "text": [
            "Epoch 1/50\n",
            "5/5 [==============================] - 0s 11ms/step - loss: 1.5920 - accuracy: 0.2348\n",
            "Epoch 2/50\n",
            "5/5 [==============================] - 0s 8ms/step - loss: 1.5040 - accuracy: 0.3636\n",
            "Epoch 3/50\n",
            "5/5 [==============================] - 0s 9ms/step - loss: 1.4747 - accuracy: 0.3030\n",
            "Epoch 4/50\n",
            "5/5 [==============================] - 0s 9ms/step - loss: 1.4087 - accuracy: 0.3485\n",
            "Epoch 5/50\n",
            "5/5 [==============================] - 0s 9ms/step - loss: 1.3190 - accuracy: 0.5606\n",
            "Epoch 6/50\n",
            "5/5 [==============================] - 0s 8ms/step - loss: 1.2540 - accuracy: 0.4697\n",
            "Epoch 7/50\n",
            "5/5 [==============================] - 0s 9ms/step - loss: 1.1342 - accuracy: 0.5303\n",
            "Epoch 8/50\n",
            "5/5 [==============================] - 0s 8ms/step - loss: 1.0046 - accuracy: 0.6288\n",
            "Epoch 9/50\n",
            "5/5 [==============================] - 0s 9ms/step - loss: 0.9466 - accuracy: 0.6288\n",
            "Epoch 10/50\n",
            "5/5 [==============================] - 0s 9ms/step - loss: 0.7950 - accuracy: 0.6818\n",
            "Epoch 11/50\n",
            "5/5 [==============================] - 0s 9ms/step - loss: 0.7242 - accuracy: 0.7727\n",
            "Epoch 12/50\n",
            "5/5 [==============================] - 0s 8ms/step - loss: 0.6783 - accuracy: 0.7348\n",
            "Epoch 13/50\n",
            "5/5 [==============================] - 0s 8ms/step - loss: 0.5950 - accuracy: 0.7955\n",
            "Epoch 14/50\n",
            "5/5 [==============================] - 0s 9ms/step - loss: 0.4821 - accuracy: 0.8106\n",
            "Epoch 15/50\n",
            "5/5 [==============================] - 0s 8ms/step - loss: 0.3853 - accuracy: 0.8712\n",
            "Epoch 16/50\n",
            "5/5 [==============================] - 0s 8ms/step - loss: 0.3324 - accuracy: 0.8788\n",
            "Epoch 17/50\n",
            "5/5 [==============================] - 0s 8ms/step - loss: 0.4110 - accuracy: 0.8712\n",
            "Epoch 18/50\n",
            "5/5 [==============================] - 0s 9ms/step - loss: 0.3535 - accuracy: 0.8864\n",
            "Epoch 19/50\n",
            "5/5 [==============================] - 0s 8ms/step - loss: 0.3346 - accuracy: 0.8636\n",
            "Epoch 20/50\n",
            "5/5 [==============================] - 0s 9ms/step - loss: 0.3134 - accuracy: 0.8712\n",
            "Epoch 21/50\n",
            "5/5 [==============================] - 0s 8ms/step - loss: 0.3989 - accuracy: 0.8258\n",
            "Epoch 22/50\n",
            "5/5 [==============================] - 0s 8ms/step - loss: 0.3344 - accuracy: 0.8864\n",
            "Epoch 23/50\n",
            "5/5 [==============================] - 0s 8ms/step - loss: 0.5264 - accuracy: 0.8561\n",
            "Epoch 24/50\n",
            "5/5 [==============================] - 0s 8ms/step - loss: 0.3013 - accuracy: 0.8864\n",
            "Epoch 25/50\n",
            "5/5 [==============================] - 0s 8ms/step - loss: 0.4638 - accuracy: 0.7803\n",
            "Epoch 26/50\n",
            "5/5 [==============================] - 0s 8ms/step - loss: 0.2890 - accuracy: 0.8939\n",
            "Epoch 27/50\n",
            "5/5 [==============================] - 0s 8ms/step - loss: 0.4098 - accuracy: 0.8106\n",
            "Epoch 28/50\n",
            "5/5 [==============================] - 0s 8ms/step - loss: 0.2527 - accuracy: 0.9167\n",
            "Epoch 29/50\n",
            "5/5 [==============================] - 0s 8ms/step - loss: 0.2231 - accuracy: 0.9091\n",
            "Epoch 30/50\n",
            "5/5 [==============================] - 0s 8ms/step - loss: 0.2239 - accuracy: 0.9091\n",
            "Epoch 31/50\n",
            "5/5 [==============================] - 0s 8ms/step - loss: 0.1900 - accuracy: 0.9470\n",
            "Epoch 32/50\n",
            "5/5 [==============================] - 0s 8ms/step - loss: 0.1575 - accuracy: 0.9470\n",
            "Epoch 33/50\n",
            "5/5 [==============================] - 0s 8ms/step - loss: 0.1140 - accuracy: 0.9621\n",
            "Epoch 34/50\n",
            "5/5 [==============================] - 0s 9ms/step - loss: 0.1135 - accuracy: 0.9621\n",
            "Epoch 35/50\n",
            "5/5 [==============================] - 0s 8ms/step - loss: 0.0737 - accuracy: 0.9848\n",
            "Epoch 36/50\n",
            "5/5 [==============================] - 0s 10ms/step - loss: 0.0939 - accuracy: 0.9697\n",
            "Epoch 37/50\n",
            "5/5 [==============================] - 0s 8ms/step - loss: 0.1266 - accuracy: 0.9545\n",
            "Epoch 38/50\n",
            "5/5 [==============================] - 0s 8ms/step - loss: 0.0735 - accuracy: 0.9924\n",
            "Epoch 39/50\n",
            "5/5 [==============================] - 0s 9ms/step - loss: 0.0724 - accuracy: 0.9697\n",
            "Epoch 40/50\n",
            "5/5 [==============================] - 0s 9ms/step - loss: 0.1226 - accuracy: 0.9470\n",
            "Epoch 41/50\n",
            "5/5 [==============================] - 0s 8ms/step - loss: 0.1323 - accuracy: 0.9545\n",
            "Epoch 42/50\n",
            "5/5 [==============================] - 0s 9ms/step - loss: 0.2193 - accuracy: 0.9091\n",
            "Epoch 43/50\n",
            "5/5 [==============================] - 0s 9ms/step - loss: 0.1555 - accuracy: 0.9470\n",
            "Epoch 44/50\n",
            "5/5 [==============================] - 0s 9ms/step - loss: 0.1074 - accuracy: 0.9470\n",
            "Epoch 45/50\n",
            "5/5 [==============================] - 0s 8ms/step - loss: 0.1194 - accuracy: 0.9545\n",
            "Epoch 46/50\n",
            "5/5 [==============================] - 0s 8ms/step - loss: 0.0599 - accuracy: 0.9848\n",
            "Epoch 47/50\n",
            "5/5 [==============================] - 0s 8ms/step - loss: 0.0708 - accuracy: 0.9848\n",
            "Epoch 48/50\n",
            "5/5 [==============================] - 0s 9ms/step - loss: 0.0420 - accuracy: 0.9924\n",
            "Epoch 49/50\n",
            "5/5 [==============================] - 0s 8ms/step - loss: 0.0439 - accuracy: 0.9924\n",
            "Epoch 50/50\n",
            "5/5 [==============================] - 0s 8ms/step - loss: 0.0326 - accuracy: 1.0000\n"
          ],
          "name": "stdout"
        },
        {
          "output_type": "execute_result",
          "data": {
            "text/plain": [
              "<tensorflow.python.keras.callbacks.History at 0x7feaeefc5240>"
            ]
          },
          "metadata": {
            "tags": []
          },
          "execution_count": 18
        }
      ]
    },
    {
      "cell_type": "code",
      "metadata": {
        "id": "Zd6XxzLNpjQ1",
        "colab_type": "code",
        "colab": {
          "base_uri": "https://localhost:8080/",
          "height": 68
        },
        "outputId": "d76e9b05-7576-4c8b-82bd-07dbc26acf65"
      },
      "source": [
        "X_test = sentences_to_indices(X_test, word_to_index, max_len)\n",
        "Y_test = one_hot_encode(Y_test)\n",
        "loss, acc = model.evaluate(X_test, Y_test)\n",
        "print()\n",
        "print(\"accuracy is \", acc)"
      ],
      "execution_count": 19,
      "outputs": [
        {
          "output_type": "stream",
          "text": [
            "2/2 [==============================] - 0s 5ms/step - loss: 0.4895 - accuracy: 0.8750\n",
            "\n",
            "accuracy is  0.875\n"
          ],
          "name": "stdout"
        }
      ]
    },
    {
      "cell_type": "markdown",
      "metadata": {
        "id": "85l7RiGwkhmk",
        "colab_type": "text"
      },
      "source": [
        "##TEST"
      ]
    },
    {
      "cell_type": "code",
      "metadata": {
        "id": "hKVPeFuusTGC",
        "colab_type": "code",
        "colab": {
          "base_uri": "https://localhost:8080/",
          "height": 51
        },
        "outputId": "e8a811c0-59d4-4e58-c86a-b7e2ba151ccb"
      },
      "source": [
        "X = np.array(['I am hungry','This has been a pretty good day so long.'])\n",
        "X_indices = sentences_to_indices(X, word_to_index, max_len)\n",
        "pred = model.predict(X_indices)\n",
        "for i in range(len(X)):\n",
        "  print(X[i], '', emo.label_to_emoji(np.argmax(pred[i])))"
      ],
      "execution_count": 41,
      "outputs": [
        {
          "output_type": "stream",
          "text": [
            "I am hungry  🍴\n",
            "This has been a pretty good day so long.  😄\n"
          ],
          "name": "stdout"
        }
      ]
    },
    {
      "cell_type": "code",
      "metadata": {
        "id": "R02RdXBOuOrM",
        "colab_type": "code",
        "colab": {}
      },
      "source": [
        ""
      ],
      "execution_count": null,
      "outputs": []
    }
  ]
}