{
  "nbformat": 4,
  "nbformat_minor": 0,
  "metadata": {
    "colab": {
      "name": "emo.ipynb",
      "provenance": [],
      "collapsed_sections": [],
      "authorship_tag": "ABX9TyOXhXZNFELn/pvR6iJkSV6L",
      "include_colab_link": true
    },
    "kernelspec": {
      "name": "python3",
      "display_name": "Python 3"
    }
  },
  "cells": [
    {
      "cell_type": "markdown",
      "metadata": {
        "id": "view-in-github",
        "colab_type": "text"
      },
      "source": [
        "<a href=\"https://colab.research.google.com/github/around-star/Emojify/blob/master/emo.ipynb\" target=\"_parent\"><img src=\"https://colab.research.google.com/assets/colab-badge.svg\" alt=\"Open In Colab\"/></a>"
      ]
    },
    {
      "cell_type": "code",
      "metadata": {
        "id": "BgELohwfoq05",
        "colab_type": "code",
        "colab": {
          "base_uri": "https://localhost:8080/",
          "height": 34
        },
        "outputId": "438a2b6d-af4b-4ae6-f0fd-86fa845d5471"
      },
      "source": [
        "!pip install emoji"
      ],
      "execution_count": null,
      "outputs": [
        {
          "output_type": "stream",
          "text": [
            "Requirement already satisfied: emoji in /usr/local/lib/python3.6/dist-packages (0.5.4)\n"
          ],
          "name": "stdout"
        }
      ]
    },
    {
      "cell_type": "code",
      "metadata": {
        "id": "2huc-Hg9o2c7",
        "colab_type": "code",
        "colab": {}
      },
      "source": [
        "import emoji\n",
        "import csv\n",
        "import pandas as pd\n",
        "import numpy as np"
      ],
      "execution_count": null,
      "outputs": []
    },
    {
      "cell_type": "code",
      "metadata": {
        "id": "uMCaut2BpKMv",
        "colab_type": "code",
        "colab": {}
      },
      "source": [
        "def read_glove_vecs(glove_file):\n",
        "  with open(glove_file, 'r') as f:\n",
        "    words = set ()\n",
        "    word_to_vec_map = {}\n",
        "    for line in f:\n",
        "      line = line.strip().split()\n",
        "      curr_word = line[0]\n",
        "      if (curr_word == '\\ufeffthe') :\n",
        "        curr_word = 'the'\n",
        "      words.add(curr_word)\n",
        "      word_to_vec_map[curr_word] = np.array(line[1:], dtype = np.float64)\n",
        "\n",
        "    i = 1\n",
        "    words_to_index = {}\n",
        "    index_to_words = {}\n",
        "\n",
        "    for w in sorted(words) : \n",
        "      words_to_index[w] = i\n",
        "      index_to_words[i] = w\n",
        "      i = i+1\n",
        "\n",
        "    return words_to_index, index_to_words, word_to_vec_map"
      ],
      "execution_count": null,
      "outputs": []
    },
    {
      "cell_type": "code",
      "metadata": {
        "id": "E3QEogbW00jX",
        "colab_type": "code",
        "colab": {}
      },
      "source": [
        "def read_csv(file):\n",
        "  phrase = []\n",
        "  emoji = []\n",
        "\n",
        "  with open(file) as f:\n",
        "    csv_file = csv.reader(f)\n",
        "\n",
        "    for row in csv_file:\n",
        "      phrase.append(row[0])\n",
        "      emoji.append(int(row[1]))\n",
        "\n",
        "  X = np.asarray(phrase)\n",
        "  Y = np.asarray(emoji, dtype = int)\n",
        "\n",
        "  return X,Y"
      ],
      "execution_count": null,
      "outputs": []
    },
    {
      "cell_type": "code",
      "metadata": {
        "id": "5_mNYNR7Alte",
        "colab_type": "code",
        "colab": {}
      },
      "source": [
        "emoji_dictionary = {\"0\": \"\\u2764\\uFE0F\",    # :heart: prints a black instead of red heart depending on the font\n",
        "                    \"1\": \":baseball:\",\n",
        "                    \"2\": \":smile:\",\n",
        "                    \"3\": \":disappointed:\",\n",
        "                    \"4\": \":fork_and_knife:\"}"
      ],
      "execution_count": null,
      "outputs": []
    },
    {
      "cell_type": "code",
      "metadata": {
        "id": "J5A9BS5NAtUA",
        "colab_type": "code",
        "colab": {}
      },
      "source": [
        "def label_to_emoji(label):\n",
        "  return emoji.emojize(emoji_dictionary[str(label)], use_aliases=True)"
      ],
      "execution_count": null,
      "outputs": []
    },
    {
      "cell_type": "code",
      "metadata": {
        "id": "ONm5p0vtCjr_",
        "colab_type": "code",
        "colab": {}
      },
      "source": [
        ""
      ],
      "execution_count": null,
      "outputs": []
    }
  ]
}